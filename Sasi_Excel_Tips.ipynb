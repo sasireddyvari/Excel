{
 "cells": [
  {
   "cell_type": "markdown",
   "metadata": {},
   "source": [
    "## Excel_Manipulation"
   ]
  },
  {
   "cell_type": "markdown",
   "metadata": {},
   "source": [
    "> #### \\ ---- Used in directory seperation"
   ]
  },
  {
   "cell_type": "markdown",
   "metadata": {},
   "source": [
    "> #### / ---- Used in url's"
   ]
  },
  {
   "cell_type": "markdown",
   "metadata": {},
   "source": [
    "  ***\n",
    "    =A2&\",\"\n",
    "    =proper(A2),\n",
    "    =A2&B2\n",
    "    =A2&\"\"&B2\n",
    "    =CONCATENATE(A2,B2)\n",
    "    =LEFT(A2,4)\n",
    "    =RIGHT(A2,4)\n",
    "    =MID(A2,4,6)\n",
    "    =FIND(FIND TEXT, WITHIN TEXT, START NUM)\n",
    "    FIND(FIND TEXT, WITHIN TEXT, START NUM) --RETURNS THE STARTING POSITION OF THE TEXT AND IT IS CASE SENSITIVE\n",
    "    =LEN(A2)\n",
    "    =SUM(A2:A20)\n",
    "    =AVERAGE(A2:A20)\n",
    "    =MAX(A2:A20)\n",
    "    =MIN(A2:A20)\n",
    "    AND(A2>9,A2<2))\n",
    "    =TEXT(B2,\"ddd\")---Converts a date or number into a text string\n",
    "    =SEARCH(fIND TEXT, WITHIN tEXT,START NUM)-- Differene IS CANB BE USED AS NOT CASE SENSITIVE\n",
    " ***"
   ]
  },
  {
   "cell_type": "markdown",
   "metadata": {},
   "source": [
    "***\n",
    "    $B$2--f4\n",
    "    EXECUTE -- F9\n",
    "    CTRL+SHIFT+DOWN\n",
    "    CTRL+T -- CREATE TABLE BY SELECTING DATA\n",
    "***"
   ]
  },
  {
   "cell_type": "markdown",
   "metadata": {},
   "source": [
    "    =COUNTIF(A2:A8,\"SASI\")--O/P: 4, RANGE , CRITERIA\n",
    "    =COUNTIFS(A2:A8,\"34\",B2:B8,\"SASI\")-- COUNTS HOW MANY ARE THERE WITH 34 AND SASI\n",
    "    =SUMIF(A2:A8,\"34\",D2:D8)--- D2:D8 IS SUM RANGE, A2:A8 IS RANGE, 34 IS CRITERIA\n",
    "    =SUMIFS(D2:D8,A2:A8,\"34\",B2:B8,\"SASI\")--D2:D8 HAS INTEGERS AND WILL BE SUMMED UP BASED ON TWO CONDITIONS 34 AND SASI\n",
    "    =AVERAGEIFS(D2:D8,A2:A8,\"34\",B2:B8,\"SASI\")\n"
   ]
  },
  {
   "cell_type": "markdown",
   "metadata": {},
   "source": [
    "    =IF(OR(LEN(LEFT(B2,FIND(\" \",B2)-1))>12,LEN(LEFT(B2,FIND(\" \",B2)-1))<2),\"Customer\",LEFT(B2,FIND(\" \",B2)-1))\n",
    "    =IF(LEN(D2)=4,\"xx\"&D2,IF(LEN(D2)=3,\"xx0\"&D2,IF(LEN(D2)=2,\"xx00\"&D2,IF(LEN(D2)=1,\"xx000\"&D2,\"\"))))"
   ]
  }
 ],
 "metadata": {
  "kernelspec": {
   "display_name": "Python 3",
   "language": "python",
   "name": "python3"
  },
  "language_info": {
   "codemirror_mode": {
    "name": "ipython",
    "version": 3
   },
   "file_extension": ".py",
   "mimetype": "text/x-python",
   "name": "python",
   "nbconvert_exporter": "python",
   "pygments_lexer": "ipython3",
   "version": "3.8.3"
  }
 },
 "nbformat": 4,
 "nbformat_minor": 4
}
